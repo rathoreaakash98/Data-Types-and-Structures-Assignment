{
  "nbformat": 4,
  "nbformat_minor": 0,
  "metadata": {
    "colab": {
      "provenance": []
    },
    "kernelspec": {
      "name": "python3",
      "display_name": "Python 3"
    },
    "language_info": {
      "name": "python"
    }
  },
  "cells": [
    {
      "cell_type": "markdown",
      "source": [
        "# Theory Questions"
      ],
      "metadata": {
        "id": "5yzizXGsUawS"
      }
    },
    {
      "cell_type": "markdown",
      "source": [
        "1.What are data structures, and why are they important?"
      ],
      "metadata": {
        "id": "ZK3NxIHXQkGZ"
      }
    },
    {
      "cell_type": "markdown",
      "source": [
        "Data structures are ways to organize and store data in a computer. They are important because they help make it easier to access, retrieve, and update data. Data structures are used in many programs and software systems."
      ],
      "metadata": {
        "id": "ylagc6gyQwMd"
      }
    },
    {
      "cell_type": "markdown",
      "source": [
        "2.Explain the difference between mutable and immutable data types with examples?"
      ],
      "metadata": {
        "id": "bDUlzCDzQ4XG"
      }
    },
    {
      "cell_type": "markdown",
      "source": [
        "Mutable Data Type – A mutable data type is one whose values can be changed.\n",
        "Example:List, Dictionaries, and Set\n",
        "\n",
        "Immutable Data Type – An immutable data type is one in which the values can’t be changed or altered.\n",
        "Example:String and Tuples"
      ],
      "metadata": {
        "id": "_ZmbHsxWRn2u"
      }
    },
    {
      "cell_type": "markdown",
      "source": [
        "3.What are the main differences between lists and tuples in Python?\n"
      ],
      "metadata": {
        "id": "H5BQ3RNOSSLL"
      }
    },
    {
      "cell_type": "markdown",
      "source": [
        "The main difference between tuples and lists is that tuples are immutable, meaning their contents cannot be changed after creation, while lists are mutable and can be modified."
      ],
      "metadata": {
        "id": "Uw4zHRz1S3ww"
      }
    },
    {
      "cell_type": "markdown",
      "source": [
        "4.Describe how dictionaries store data?"
      ],
      "metadata": {
        "id": "EDQK9Cw1S5MA"
      }
    },
    {
      "cell_type": "markdown",
      "source": [
        "Dictionaries are used to store data values in key:value pairs. A dictionary is a collection which is ordered*, changeable and do not allow duplicates."
      ],
      "metadata": {
        "id": "fuMQgagtTUUX"
      }
    },
    {
      "cell_type": "markdown",
      "source": [
        "5. Why might you use a set instead of a list in Python?"
      ],
      "metadata": {
        "id": "v4k5R1neUo2v"
      }
    },
    {
      "cell_type": "markdown",
      "source": [
        "The Python sets are highly useful to efficiently remove duplicate values from a collection like a list and to perform common math operations like unions and intersections."
      ],
      "metadata": {
        "id": "5MTMexAnU7bm"
      }
    },
    {
      "cell_type": "markdown",
      "source": [
        "6.What is a string in Python, and how is it different from a list?"
      ],
      "metadata": {
        "id": "qDDT8mtlU83H"
      }
    },
    {
      "cell_type": "markdown",
      "source": [
        "In Python, a list is a collection of items that can be of any data type and can be modified (mutable). Lists are represented by square brackets and can contain multiple elements separated by commas. On the other hand, a string is a sequence of characters enclosed in single or double quotes. Strings are immutable, meaning their values cannot be changed once they are created. While both lists and strings can be accessed using indexing and slicing, lists provide more flexibility as they can be modified, appended, or extended, while strings cannot be altered after creation."
      ],
      "metadata": {
        "id": "x0vo5AY4VV-O"
      }
    },
    {
      "cell_type": "markdown",
      "source": [
        "7.How do tuples ensure data integrity in Python?"
      ],
      "metadata": {
        "id": "qyBHlypcVtiF"
      }
    },
    {
      "cell_type": "markdown",
      "source": [
        "Tuples are an essential data structure in Python, representing an immutable, ordered collection of elements. They are similar to lists but with a key difference: once a tuple is created, its contents cannot be changed. This immutability makes tuples a reliable choice for storing fixed collections of data."
      ],
      "metadata": {
        "id": "6oMQxSrcV1Us"
      }
    },
    {
      "cell_type": "markdown",
      "source": [
        "8.What is a hash table, and how does it relate to dictionaries in Python?"
      ],
      "metadata": {
        "id": "STr0SY9UV_Ms"
      }
    },
    {
      "cell_type": "markdown",
      "source": [
        "In Python, a dictionary is a data structure that's implemented using a hash table. A hash table is a data structure that stores key-value pairs, and the dictionary data type in Python uses hash tables."
      ],
      "metadata": {
        "id": "W_SQ8-1PWKI0"
      }
    },
    {
      "cell_type": "markdown",
      "source": [
        "9.Can lists contain different data types in Python?"
      ],
      "metadata": {
        "id": "QmRHXM9wWQ6b"
      }
    },
    {
      "cell_type": "markdown",
      "source": [
        "A list can also contain a mix of Python types including strings, floats, and booleans."
      ],
      "metadata": {
        "id": "t1Facb4rWci0"
      }
    },
    {
      "cell_type": "markdown",
      "source": [
        "10.Explain why strings are immutable in Python?"
      ],
      "metadata": {
        "id": "oUPBMOGLWjRH"
      }
    },
    {
      "cell_type": "markdown",
      "source": [
        "In Python, strings are made immutable so that programmers cannot alter the contents of the object (even by mistake). This avoids unnecessary bugs.Some other immutable objects are integer, float, tuple, and bool."
      ],
      "metadata": {
        "id": "mtCZPY-5XEct"
      }
    },
    {
      "cell_type": "markdown",
      "source": [
        "11.What advantages do dictionaries offer over lists for certain tasks?"
      ],
      "metadata": {
        "id": "Yrks0rBXXcW2"
      }
    },
    {
      "cell_type": "markdown",
      "source": [
        "Dictionaries are better than lists for tasks that require quick lookups, such as searching for a specific value or object. Dictionaries are also good for storing complex data structures like graphs and databases."
      ],
      "metadata": {
        "id": "kAqdWK7tXoeD"
      }
    },
    {
      "cell_type": "markdown",
      "source": [
        "12.Describe a scenario where using a tuple would be preferable over a list?"
      ],
      "metadata": {
        "id": "uW9Vu7rPXtss"
      }
    },
    {
      "cell_type": "markdown",
      "source": [
        "Lists are mutable while tuples are immutable, there is also strong culture that tuples are preferred for heterogeneous collections while lists are preferred for homogeneous collections. Hence, basically consider these parameters when you need to choose tuple over list or vice versa."
      ],
      "metadata": {
        "id": "DYhwVZqwZMkd"
      }
    },
    {
      "cell_type": "markdown",
      "source": [
        " 13.How do sets handle duplicate values in Python?"
      ],
      "metadata": {
        "id": "mVzGZ4XxZP0H"
      }
    },
    {
      "cell_type": "markdown",
      "source": [
        "Items of a set in python are immutable (unchangeable), do not duplicate values, and unordered. Thus, items in a set do not appear in a stipulated manner, i.e., they can appear in a different order every time it is used. Due to this, set items cannot be referred to by key or index."
      ],
      "metadata": {
        "id": "5IB5o5OxZpHH"
      }
    },
    {
      "cell_type": "markdown",
      "source": [
        "14.How does the “in” keyword work differently for lists and dictionaries?"
      ],
      "metadata": {
        "id": "t-uKPsG9ZtVX"
      }
    },
    {
      "cell_type": "markdown",
      "source": [
        "The in operator uses different algorithms for lists and dictionaries. For lists, it uses a search algorithm. As the list gets longer, the search time gets longer in direct proportion. For dictionaries, Python uses an algorithm called a hashtable that has a remarkable property: the in operator takes about the same amount of time no matter how many items there are in a dictionary."
      ],
      "metadata": {
        "id": "2r0NPRwUaSNp"
      }
    },
    {
      "cell_type": "markdown",
      "source": [
        " 15.Can you modify the elements of a tuple? Explain why or why not?"
      ],
      "metadata": {
        "id": "ZwZnGx_bcfgk"
      }
    },
    {
      "cell_type": "markdown",
      "source": [
        "No, we cannot modify the elements of a tuple in Python because tuples are immutable. This means that once a tuple is created, its elements cannot be changed, added, or removed."
      ],
      "metadata": {
        "id": "JlUuUHGccsHx"
      }
    },
    {
      "cell_type": "markdown",
      "source": [
        "16.What is a nested dictionary, and give an example of its use case?"
      ],
      "metadata": {
        "id": "a8oTqH9lc4uH"
      }
    },
    {
      "cell_type": "markdown",
      "source": [
        "A nested dictionary is a dictionary within another dictionary, essentially creating a hierarchical structure where values within a dictionary can themselves be dictionaries, allowing for the organization of complex data with multiple levels of detail."
      ],
      "metadata": {
        "id": "4YYLryrUdW17"
      }
    },
    {
      "cell_type": "code",
      "source": [
        "inventory = {\"Electronics\": {\"Laptops\": {\"Apple\": {\"MacBook Pro\": 10, \"MacBook Air\": 5},\"Dell\": {\"XPS 13\": 8, \"Inspiron\": 3}},\"Phones\": {\"Samsung\": {\"Galaxy S23\": 15, \"Fold 4\": 7},\"iPhone\": {\"14 Pro Max\": 20, \"14 Pro\": 12}},\"Home Appliances\": { \"Refrigerators\": {\"LG\": 4, \"Samsung\": 6},\"Washing Machines\": {\"Whirlpool\": 2, \"Maytag\": 1}}}}\n",
        "\n",
        "print(inventory)"
      ],
      "metadata": {
        "colab": {
          "base_uri": "https://localhost:8080/"
        },
        "id": "IYZVa-S5duw6",
        "outputId": "855e5e64-4507-4d5a-ef70-9e0c1ea4e9b8"
      },
      "execution_count": 3,
      "outputs": [
        {
          "output_type": "stream",
          "name": "stdout",
          "text": [
            "{'Electronics': {'Laptops': {'Apple': {'MacBook Pro': 10, 'MacBook Air': 5}, 'Dell': {'XPS 13': 8, 'Inspiron': 3}}, 'Phones': {'Samsung': {'Galaxy S23': 15, 'Fold 4': 7}, 'iPhone': {'14 Pro Max': 20, '14 Pro': 12}}, 'Home Appliances': {'Refrigerators': {'LG': 4, 'Samsung': 6}, 'Washing Machines': {'Whirlpool': 2, 'Maytag': 1}}}}\n"
          ]
        }
      ]
    },
    {
      "cell_type": "markdown",
      "source": [
        "17.Describe the time complexity of accessing elements in a dictionary?"
      ],
      "metadata": {
        "id": "mfUSchaCfn7U"
      }
    },
    {
      "cell_type": "markdown",
      "source": [
        "The time complexity of accessing an element in a Python dictionary is O(1) on average, but can be O(n) in the worst case. The worst case occurs when there are many hash collisions or when the dictionary needs to be resized."
      ],
      "metadata": {
        "id": "GAhfegDPf06V"
      }
    },
    {
      "cell_type": "markdown",
      "source": [
        "18.In what situations are lists preferred over dictionaries?"
      ],
      "metadata": {
        "id": "t8hs4VQLf23C"
      }
    },
    {
      "cell_type": "markdown",
      "source": [
        "When we need an ordered collection, like a sequence of user actions, lists are your go-to. On the other hand, when you need quick look-ups, like mapping usernames to user data, dictionaries are invaluable."
      ],
      "metadata": {
        "id": "YKc4coFhgf_1"
      }
    },
    {
      "cell_type": "markdown",
      "source": [
        "19.Why are dictionaries considered unordered, and how does that affect data retrieval?"
      ],
      "metadata": {
        "id": "RDNKtJ-ngtvu"
      }
    },
    {
      "cell_type": "markdown",
      "source": [
        "A dictionary is termed an unordered collection of objects because dictionaries do not maintain any inherent order of the items based on when they were added. Dictionaries did not preserve insertion order at all. This meant that when you accessed or printed the items, the order could vary, as dictionaries were optimized for fast lookups rather than maintaining order."
      ],
      "metadata": {
        "id": "fml1ONwPg1TU"
      }
    },
    {
      "cell_type": "markdown",
      "source": [
        "20.Explain the difference between a list and a dictionary in terms of data retrieval?"
      ],
      "metadata": {
        "id": "bz6Y1qaMhGaA"
      }
    },
    {
      "cell_type": "markdown",
      "source": [
        "In Python, the difference between data retrieval in a list and a dictionary is that lists use indices to access elements, while dictionaries use keys."
      ],
      "metadata": {
        "id": "pQsEomAzhZ2U"
      }
    },
    {
      "cell_type": "markdown",
      "source": [
        "# Practical Questions"
      ],
      "metadata": {
        "id": "SPkKEDexhfsn"
      }
    },
    {
      "cell_type": "code",
      "source": [
        "#Write a code to create a string with your name and print it?\n",
        "print(\"my name is ajay\")\n",
        "print\n",
        "\n",
        "name = \"Aakash\"\n",
        "print(\"my name is\",name)"
      ],
      "metadata": {
        "colab": {
          "base_uri": "https://localhost:8080/"
        },
        "id": "ECg5SwM_hnMU",
        "outputId": "8d331551-4c3c-4a17-9035-197d29f0f09b"
      },
      "execution_count": 6,
      "outputs": [
        {
          "output_type": "stream",
          "name": "stdout",
          "text": [
            "my name is ajay\n",
            "my name is Aakash\n"
          ]
        }
      ]
    },
    {
      "cell_type": "code",
      "source": [
        "#Write a code to find the length of the string \"Hello World\"?\n",
        "string = \"Hello World\"\n",
        "length = len(string)\n",
        "print(length)"
      ],
      "metadata": {
        "colab": {
          "base_uri": "https://localhost:8080/"
        },
        "id": "0nV_17efjjyf",
        "outputId": "fbe24a57-c50c-440f-c5be-c409917d7a70"
      },
      "execution_count": 7,
      "outputs": [
        {
          "output_type": "stream",
          "name": "stdout",
          "text": [
            "11\n"
          ]
        }
      ]
    },
    {
      "cell_type": "code",
      "source": [
        "#Write a code to slice the first 3 characters from the string \"Python Programming\"?\n",
        "str = \"Python Programming\"\n",
        "print(str[0:3])"
      ],
      "metadata": {
        "colab": {
          "base_uri": "https://localhost:8080/"
        },
        "id": "M7AQg0qHj6zb",
        "outputId": "c9ed9ed9-3ed2-4e6a-c874-96444836acf3"
      },
      "execution_count": 8,
      "outputs": [
        {
          "output_type": "stream",
          "name": "stdout",
          "text": [
            "Pyt\n"
          ]
        }
      ]
    },
    {
      "cell_type": "code",
      "source": [
        "#Write a code to convert the string \"hello\" to uppercase\n",
        "string = \"hello\"\n",
        "string.upper()\n"
      ],
      "metadata": {
        "colab": {
          "base_uri": "https://localhost:8080/",
          "height": 35
        },
        "id": "8PNfSmYNlmyv",
        "outputId": "dbd2c7ff-9600-47ce-f250-393f6a7076c3"
      },
      "execution_count": 15,
      "outputs": [
        {
          "output_type": "execute_result",
          "data": {
            "text/plain": [
              "'HELLO'"
            ],
            "application/vnd.google.colaboratory.intrinsic+json": {
              "type": "string"
            }
          },
          "metadata": {},
          "execution_count": 15
        }
      ]
    },
    {
      "cell_type": "code",
      "source": [
        "#Write a code to replace the word \"apple\" with \"orange\" in the string \"I like apple\"\n",
        "s = \"I like apple\"\n",
        "s.replace(\"apple\", \"orange\")"
      ],
      "metadata": {
        "colab": {
          "base_uri": "https://localhost:8080/",
          "height": 35
        },
        "id": "-HDTxJOBmgz-",
        "outputId": "92f71f27-6a96-4c0f-e6fa-5a4b2453d99e"
      },
      "execution_count": 16,
      "outputs": [
        {
          "output_type": "execute_result",
          "data": {
            "text/plain": [
              "'I like orange'"
            ],
            "application/vnd.google.colaboratory.intrinsic+json": {
              "type": "string"
            }
          },
          "metadata": {},
          "execution_count": 16
        }
      ]
    },
    {
      "cell_type": "code",
      "source": [
        "#Write a code to create a list with numbers 1 to 5 and print it\n",
        "list = [1,2,3,4,5]\n",
        "print(list)\n",
        "type(list)"
      ],
      "metadata": {
        "colab": {
          "base_uri": "https://localhost:8080/"
        },
        "id": "D7gaivG1nNS_",
        "outputId": "630a316f-11fb-418d-82c9-51e7f28e9a50"
      },
      "execution_count": 18,
      "outputs": [
        {
          "output_type": "stream",
          "name": "stdout",
          "text": [
            "[1, 2, 3, 4, 5]\n"
          ]
        },
        {
          "output_type": "execute_result",
          "data": {
            "text/plain": [
              "list"
            ]
          },
          "metadata": {},
          "execution_count": 18
        }
      ]
    },
    {
      "cell_type": "code",
      "source": [
        "#Write a code to append the number 10 to the list [1, 2, 3, 4]\n",
        "\n",
        "list = [1,2,3,4]\n",
        "list.append(10)\n",
        "print(list)\n"
      ],
      "metadata": {
        "colab": {
          "base_uri": "https://localhost:8080/"
        },
        "id": "zino1RxDnpUX",
        "outputId": "fbc36338-238d-4444-db7d-71873e57581b"
      },
      "execution_count": 23,
      "outputs": [
        {
          "output_type": "stream",
          "name": "stdout",
          "text": [
            "[1, 2, 3, 4, 10]\n"
          ]
        }
      ]
    },
    {
      "cell_type": "code",
      "source": [
        "#Write a code to remove the number 3 from the list [1, 2, 3, 4, 5]\n",
        "list = [1,2,3,4,5]\n",
        "list.remove(3)\n",
        "print(list)"
      ],
      "metadata": {
        "colab": {
          "base_uri": "https://localhost:8080/"
        },
        "id": "f2QDGA4jpEh6",
        "outputId": "13404f56-152e-42e8-dbc9-cc026be65338"
      },
      "execution_count": 24,
      "outputs": [
        {
          "output_type": "stream",
          "name": "stdout",
          "text": [
            "[1, 2, 4, 5]\n"
          ]
        }
      ]
    },
    {
      "cell_type": "code",
      "source": [
        "#Write a code to access the second element in the list ['a', 'b', 'c', 'd']\n",
        "list = ['a', 'b', 'c', 'd']\n",
        "print(list[1])\n",
        "\n"
      ],
      "metadata": {
        "colab": {
          "base_uri": "https://localhost:8080/"
        },
        "id": "wUbGCZj2pNfs",
        "outputId": "40d4b797-2c73-431f-e181-78a642292ca4"
      },
      "execution_count": 28,
      "outputs": [
        {
          "output_type": "stream",
          "name": "stdout",
          "text": [
            "b\n"
          ]
        }
      ]
    },
    {
      "cell_type": "code",
      "source": [
        "#Write a code to reverse the list [10, 20, 30, 40, 50].\n",
        "list = [10, 20, 30, 40, 50]\n",
        "list.reverse()\n",
        "list"
      ],
      "metadata": {
        "colab": {
          "base_uri": "https://localhost:8080/"
        },
        "id": "hJJUSTZfp1NJ",
        "outputId": "bbef0e06-5ba5-4add-8aac-ed1977b04b1c"
      },
      "execution_count": 34,
      "outputs": [
        {
          "output_type": "execute_result",
          "data": {
            "text/plain": [
              "[50, 40, 30, 20, 10]"
            ]
          },
          "metadata": {},
          "execution_count": 34
        }
      ]
    },
    {
      "cell_type": "code",
      "source": [
        "#Write a code to create a tuple with the elements 100, 200, 300 and print it.\n",
        "\n",
        "t = (100,200,300)\n",
        "print(t)\n",
        "type(t)"
      ],
      "metadata": {
        "colab": {
          "base_uri": "https://localhost:8080/"
        },
        "id": "Nigpneh5ryAH",
        "outputId": "10a113e9-fa0e-422b-c03c-a94bd2e722cf"
      },
      "execution_count": 38,
      "outputs": [
        {
          "output_type": "stream",
          "name": "stdout",
          "text": [
            "(100, 200, 300)\n"
          ]
        },
        {
          "output_type": "execute_result",
          "data": {
            "text/plain": [
              "tuple"
            ]
          },
          "metadata": {},
          "execution_count": 38
        }
      ]
    },
    {
      "cell_type": "code",
      "source": [
        "# Write a code to access the second-to-last element of the tuple ('red', 'green', 'blue', 'yellow').\n",
        "\n",
        "t= ('red', 'green', 'blue', 'yellow')\n",
        "print(t[2])"
      ],
      "metadata": {
        "colab": {
          "base_uri": "https://localhost:8080/"
        },
        "id": "i9i-xgptsJQj",
        "outputId": "93a7d20e-a3ba-40e1-d3e1-2a0792bcd833"
      },
      "execution_count": 39,
      "outputs": [
        {
          "output_type": "stream",
          "name": "stdout",
          "text": [
            "blue\n"
          ]
        }
      ]
    },
    {
      "cell_type": "code",
      "source": [
        "# Write a code to find the minimum number in the tuple (10, 20, 5, 15).\n",
        "t= (10, 20, 5, 15)\n",
        "min_num = min(t)\n",
        "print(min_num)"
      ],
      "metadata": {
        "colab": {
          "base_uri": "https://localhost:8080/"
        },
        "id": "-HwCcL6msj4u",
        "outputId": "7e29d8e3-1eea-4e43-d3ab-e784da2f0b8d"
      },
      "execution_count": 44,
      "outputs": [
        {
          "output_type": "stream",
          "name": "stdout",
          "text": [
            "5\n"
          ]
        }
      ]
    },
    {
      "cell_type": "code",
      "source": [
        "#Write a code to find the index of the element \"cat\" in the tuple ('dog', 'cat', 'rabbit').\n",
        "\n",
        "tuple = ('dog', 'cat', 'rabbit')\n",
        "tuple.index('cat')"
      ],
      "metadata": {
        "colab": {
          "base_uri": "https://localhost:8080/"
        },
        "id": "RV1_0A6zuVhp",
        "outputId": "7904096d-a977-42d6-beaf-0d918dc797bc"
      },
      "execution_count": 66,
      "outputs": [
        {
          "output_type": "execute_result",
          "data": {
            "text/plain": [
              "1"
            ]
          },
          "metadata": {},
          "execution_count": 66
        }
      ]
    },
    {
      "source": [
        "#Write a code to create a tuple containing three different fruits and check if \"kiwi\" is in it.\n",
        "tuple = (\"apple\", \"banana\", \"kiwi\")\n",
        "if \"kiwi\" in tuple:\n",
        "  print(\"Yes, 'kiwi' is in the fruits tuple\")"
      ],
      "cell_type": "code",
      "metadata": {
        "colab": {
          "base_uri": "https://localhost:8080/"
        },
        "id": "bSbhqpxN25Vk",
        "outputId": "339f7c00-acc0-405f-c61e-a3ad3b9c237a"
      },
      "execution_count": 77,
      "outputs": [
        {
          "output_type": "stream",
          "name": "stdout",
          "text": [
            "Yes, 'kiwi' is in the fruits tuple\n"
          ]
        }
      ]
    },
    {
      "cell_type": "code",
      "source": [
        "#Write a code to create a set with the elements 'a', 'b', 'c' and print it.\n",
        "\n",
        "s = {'a', 'b', 'c'}\n",
        "print(s)\n",
        "type(s)"
      ],
      "metadata": {
        "colab": {
          "base_uri": "https://localhost:8080/"
        },
        "id": "2HwnQr014ayn",
        "outputId": "789e33cc-576c-4b03-9c84-48f659712447"
      },
      "execution_count": 80,
      "outputs": [
        {
          "output_type": "stream",
          "name": "stdout",
          "text": [
            "{'a', 'c', 'b'}\n"
          ]
        },
        {
          "output_type": "execute_result",
          "data": {
            "text/plain": [
              "set"
            ]
          },
          "metadata": {},
          "execution_count": 80
        }
      ]
    },
    {
      "cell_type": "code",
      "source": [
        "#Write a code to clear all elements from the set {1, 2, 3, 4, 5}.\n",
        "\n",
        "s= {1, 2, 3, 4, 5}\n",
        "s.clear()\n",
        "print(s)"
      ],
      "metadata": {
        "colab": {
          "base_uri": "https://localhost:8080/"
        },
        "id": "KWR85dbY4r9F",
        "outputId": "7ccfd9cb-e909-4d5b-8de5-cedba3d2639b"
      },
      "execution_count": 81,
      "outputs": [
        {
          "output_type": "stream",
          "name": "stdout",
          "text": [
            "set()\n"
          ]
        }
      ]
    },
    {
      "cell_type": "code",
      "source": [
        "#Write a code to remove the element 4 from the set {1, 2, 3, 4}.\n",
        "set = {1, 2, 3, 4}\n",
        "set.remove(4)\n",
        "print(set)"
      ],
      "metadata": {
        "colab": {
          "base_uri": "https://localhost:8080/"
        },
        "id": "e3kPe1a4431E",
        "outputId": "3a5b43fe-e400-4542-e182-76fbf8a788f0"
      },
      "execution_count": 83,
      "outputs": [
        {
          "output_type": "stream",
          "name": "stdout",
          "text": [
            "{1, 2, 3}\n"
          ]
        }
      ]
    },
    {
      "cell_type": "code",
      "source": [
        "#Write a code to find the union of two sets {1, 2, 3} and {3, 4, 5}.\n",
        "s1 = {1,2,3}\n",
        "s2 = {3,4,5}\n",
        "s1.union(s2)"
      ],
      "metadata": {
        "colab": {
          "base_uri": "https://localhost:8080/"
        },
        "id": "v5jbauCq5Gus",
        "outputId": "5116cdad-62f0-4129-a25e-83c6e2e60be6"
      },
      "execution_count": 84,
      "outputs": [
        {
          "output_type": "execute_result",
          "data": {
            "text/plain": [
              "{1, 2, 3, 4, 5}"
            ]
          },
          "metadata": {},
          "execution_count": 84
        }
      ]
    },
    {
      "cell_type": "code",
      "source": [
        "# Write a code to find the intersection of two sets {1, 2, 3} and {2, 3, 4}.\n",
        "s1 = {1,2,3}\n",
        "s2 = {3,4,5}\n",
        "s1.intersection(s2)"
      ],
      "metadata": {
        "colab": {
          "base_uri": "https://localhost:8080/"
        },
        "id": "bHbPKsHO5dj-",
        "outputId": "21f1961b-3b95-4a5a-ab00-c3d3e659fab1"
      },
      "execution_count": 86,
      "outputs": [
        {
          "output_type": "execute_result",
          "data": {
            "text/plain": [
              "{3}"
            ]
          },
          "metadata": {},
          "execution_count": 86
        }
      ]
    },
    {
      "cell_type": "code",
      "source": [
        "# Write a code to create a dictionary with the keys \"name\", \"age\", and \"city\", and print it.\n",
        "\n",
        "dict = {\"name\": \"mary\", \"age\": 36, \"city\": \"New York\"}\n",
        "print(dict)"
      ],
      "metadata": {
        "colab": {
          "base_uri": "https://localhost:8080/"
        },
        "id": "J2VxALTR6Ptq",
        "outputId": "c882b368-bf54-4dae-ea34-e74581a93831"
      },
      "execution_count": 87,
      "outputs": [
        {
          "output_type": "stream",
          "name": "stdout",
          "text": [
            "{'name': 'mary', 'age': 36, 'city': 'New York'}\n"
          ]
        }
      ]
    },
    {
      "cell_type": "code",
      "source": [
        "#Write a code to add a new key-value pair \"country\": \"USA\" to the dictionary {'name': 'John', 'age': 25}.\n",
        "\n",
        "dict = {'name': 'John', 'age': 25}\n",
        "dict['country'] = 'USA'\n",
        "print(dict)"
      ],
      "metadata": {
        "colab": {
          "base_uri": "https://localhost:8080/"
        },
        "id": "otvg8X0e6s68",
        "outputId": "5094641f-7169-4063-f659-8d29bd238148"
      },
      "execution_count": 88,
      "outputs": [
        {
          "output_type": "stream",
          "name": "stdout",
          "text": [
            "{'name': 'John', 'age': 25, 'country': 'USA'}\n"
          ]
        }
      ]
    },
    {
      "cell_type": "code",
      "source": [
        "#Write a code to access the value associated with the key \"name\" in the dictionary {'name': 'Alice', 'age': 30}.\n",
        "d = {'name': 'Alice', 'age': 30}\n",
        "d['name']"
      ],
      "metadata": {
        "colab": {
          "base_uri": "https://localhost:8080/",
          "height": 35
        },
        "id": "YLTEaRh77TrI",
        "outputId": "74c0510f-7b00-4f31-f885-82d9184a6419"
      },
      "execution_count": 90,
      "outputs": [
        {
          "output_type": "execute_result",
          "data": {
            "text/plain": [
              "'Alice'"
            ],
            "application/vnd.google.colaboratory.intrinsic+json": {
              "type": "string"
            }
          },
          "metadata": {},
          "execution_count": 90
        }
      ]
    },
    {
      "cell_type": "code",
      "source": [
        "#Write a code to remove the key \"age\" from the dictionary {'name': 'Bob', 'age': 22, 'city': 'New York'}.\n",
        "\n",
        "my_dict = {'name': 'Bob', 'age': 22, 'city': 'New York'}\n",
        "del my_dict['age']\n",
        "print(my_dict)"
      ],
      "metadata": {
        "colab": {
          "base_uri": "https://localhost:8080/"
        },
        "id": "rWUMRdpa7_Fc",
        "outputId": "09199b07-d792-4570-86bb-c05bed1332ad"
      },
      "execution_count": 91,
      "outputs": [
        {
          "output_type": "stream",
          "name": "stdout",
          "text": [
            "{'name': 'Bob', 'city': 'New York'}\n"
          ]
        }
      ]
    },
    {
      "cell_type": "code",
      "source": [
        "#Write a code to check if the key \"city\" exists in the dictionary {'name': 'Alice', 'city': 'Paris'}.\n",
        "\n",
        "my_dict = {'name': 'Alice', 'city': 'Paris'}\n",
        "if 'city' in my_dict:\n",
        "  print(\"Yes, 'city' is one of the keys in the dictionary\")"
      ],
      "metadata": {
        "colab": {
          "base_uri": "https://localhost:8080/"
        },
        "id": "mdFRmKv_8ZEX",
        "outputId": "a3d5b31a-679d-4d4b-afb5-b3f7d52f11ce"
      },
      "execution_count": 92,
      "outputs": [
        {
          "output_type": "stream",
          "name": "stdout",
          "text": [
            "Yes, 'city' is one of the keys in the dictionary\n"
          ]
        }
      ]
    },
    {
      "cell_type": "code",
      "source": [
        "#Write a code to create a list, a tuple, and a dictionary, and print them all.\n",
        "\n",
        "list = [1, 2, 3, 4, 5]\n",
        "print(list)\n",
        "\n",
        "tuple = (1, 2, 3, 4, 5)\n",
        "print(tuple)\n",
        "\n",
        "dict = {'name': 'Alice', 'age': 30}\n",
        "print(dict)"
      ],
      "metadata": {
        "colab": {
          "base_uri": "https://localhost:8080/"
        },
        "id": "LsVGJJAT8p68",
        "outputId": "f8aa1aa0-115e-4383-ab62-f926f5d87d17"
      },
      "execution_count": 93,
      "outputs": [
        {
          "output_type": "stream",
          "name": "stdout",
          "text": [
            "[1, 2, 3, 4, 5]\n",
            "(1, 2, 3, 4, 5)\n",
            "{'name': 'Alice', 'age': 30}\n"
          ]
        }
      ]
    },
    {
      "cell_type": "code",
      "source": [
        "#Write a code to create a list of 5 random numbers between 1 and 100, sort it in ascending order, and print the\n",
        "#result.(replaced)\n",
        "\n",
        "import random\n",
        "num_list = random.sample(range(1,100),5)\n",
        "num_list.sort()\n",
        "print(num_list)\n"
      ],
      "metadata": {
        "colab": {
          "base_uri": "https://localhost:8080/"
        },
        "id": "tYACWQWV9BQz",
        "outputId": "07556376-8db0-4507-95dc-05c97bbee7d3"
      },
      "execution_count": 129,
      "outputs": [
        {
          "output_type": "stream",
          "name": "stdout",
          "text": [
            "[8, 15, 21, 24, 54]\n"
          ]
        }
      ]
    },
    {
      "cell_type": "code",
      "source": [
        "# Write a code to create a list with strings and print the element at the third index.\n",
        "\n",
        "list = [\"apple\", \"banana\", \"cherry\", \"date\", \"elderberry\"]\n",
        "print(list[2])"
      ],
      "metadata": {
        "colab": {
          "base_uri": "https://localhost:8080/"
        },
        "id": "1tjinkVEJogq",
        "outputId": "5af1aa6c-b293-415b-adb2-8a55655d5703"
      },
      "execution_count": 130,
      "outputs": [
        {
          "output_type": "stream",
          "name": "stdout",
          "text": [
            "cherry\n"
          ]
        }
      ]
    },
    {
      "cell_type": "code",
      "source": [
        "#Write a code to combine two dictionaries into one and print the result.\n",
        "\n",
        "dict1 = {'a': 1, 'b': 2}\n",
        "dict2 = {'c': 3, 'd': 4}\n",
        "dict1.update(dict2)"
      ],
      "metadata": {
        "colab": {
          "base_uri": "https://localhost:8080/"
        },
        "id": "iYmcrcoCJ4Ob",
        "outputId": "db802513-47d8-4706-bf87-45760755ac37"
      },
      "execution_count": 131,
      "outputs": [
        {
          "output_type": "stream",
          "name": "stdout",
          "text": [
            "{'a': 1, 'b': 2, 'c': 3, 'd': 4}\n"
          ]
        }
      ]
    },
    {
      "cell_type": "code",
      "source": [
        "#Write a code to convert a list of strings into a set.\n",
        "\n",
        "list1 = [\"apple\", \"banana\", \"cherry\", \"date\", \"elderberry\"]\n",
        "set1 = {x for x in list}\n",
        "set1\n"
      ],
      "metadata": {
        "colab": {
          "base_uri": "https://localhost:8080/"
        },
        "id": "TYt3BhvpO-09",
        "outputId": "a2395f9d-eba1-44af-b6bd-d8a727b55955"
      },
      "execution_count": 148,
      "outputs": [
        {
          "output_type": "execute_result",
          "data": {
            "text/plain": [
              "{'apple', 'banana', 'cherry', 'date', 'elderberry'}"
            ]
          },
          "metadata": {},
          "execution_count": 148
        }
      ]
    }
  ]
}